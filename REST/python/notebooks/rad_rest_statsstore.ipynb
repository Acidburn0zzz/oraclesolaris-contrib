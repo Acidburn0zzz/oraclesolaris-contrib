{
 "cells": [
  {
   "cell_type": "code",
   "execution_count": 1,
   "metadata": {},
   "outputs": [],
   "source": [
    "import requests\n",
    "import json\n",
    "import base64\n",
    "import os\n",
    "import time\n",
    "import pandas as pd"
   ]
  },
  {
   "cell_type": "code",
   "execution_count": 2,
   "metadata": {},
   "outputs": [],
   "source": [
    "import warnings\n",
    "warnings.filterwarnings('ignore')"
   ]
  },
  {
   "cell_type": "code",
   "execution_count": 9,
   "metadata": {},
   "outputs": [],
   "source": [
    "config_filename = 'base_login_root_wel.json'\n",
    "\n",
    "base_authentication_uri = 'api/authentication/1.0/Session/'\n",
    "base_sstore_uri = 'api/com.oracle.solaris.rad.sstore/1.0/'\n",
    "sstore_namespace_uri = '{}Namespace/'.format(base_sstore_uri)"
   ]
  },
  {
   "cell_type": "code",
   "execution_count": 4,
   "metadata": {},
   "outputs": [
    {
     "data": {
      "text/plain": [
       "{'server_name': 't8ldom3.us.oracle.com',\n",
       " 'server_port': '6788',\n",
       " 'cert_loaction': 'certs/hostca_10.134.74.33.crt',\n",
       " 'config_json': {'username': 'root',\n",
       "  'password': 'Welcome1',\n",
       "  'scheme': 'pam',\n",
       "  'preserve': True,\n",
       "  'timeout': -1}}"
      ]
     },
     "execution_count": 4,
     "metadata": {},
     "output_type": "execute_result"
    }
   ],
   "source": [
    "if config_filename:\n",
    "    with open(config_filename, 'r') as f:\n",
    "        server_connection_info = json.load(f)\n",
    "        \n",
    "server_connection_info"
   ]
  },
  {
   "cell_type": "code",
   "execution_count": 5,
   "metadata": {},
   "outputs": [],
   "source": [
    "def rad_rest_login(session_name, server_connection_info, base_authentication_uri):\n",
    "    login_url = 'https://{0}:{1}/{2}'.format(*list(map(server_connection_info.get, ['server_name', 'server_port'])), base_authentication_uri)\n",
    "    print(\"Logging in with this URL: \" + login_url)\n",
    "\n",
    "    try:\n",
    "        response = session_name.post(login_url, json = server_connection_info['config_json'], verify = server_connection_info['cert_loaction'])\n",
    "    except:\n",
    "        print('no connection')\n",
    "        response = 'empty'\n",
    "    \n",
    "    return response"
   ]
  },
  {
   "cell_type": "code",
   "execution_count": 6,
   "metadata": {},
   "outputs": [],
   "source": [
    "def rad_rest_request(request_type, session_name, server_connection_info, rad_rest_uri, payload = None):\n",
    "    \n",
    "    # Create a list of variables\n",
    "    query_vars = list(map(server_connection_info.get, ['server_name', 'server_port']))\n",
    "    query_vars.append(rad_rest_uri)\n",
    "\n",
    "    # Create query url to be used\n",
    "    query_url = 'https://{0}:{1}/{2}'.format(*query_vars)\n",
    "\n",
    "    response = session_name.request(request_type, query_url, json = payload)\n",
    "    \n",
    "    return response"
   ]
  },
  {
   "cell_type": "code",
   "execution_count": 7,
   "metadata": {},
   "outputs": [
    {
     "name": "stdout",
     "output_type": "stream",
     "text": [
      "Logging in with this URL: https://t8ldom3.us.oracle.com:6788/api/authentication/1.0/Session/\n",
      "201\n",
      "{\n",
      "        \"status\": \"success\",\n",
      "        \"payload\": {\n",
      "                \"href\": \"/api/com.oracle.solaris.rad.authentication/1.0/Session/_rad_reference/7424\"\n",
      "        }\n",
      "}\n"
     ]
    }
   ],
   "source": [
    "s = requests.Session()\n",
    "\n",
    "login_answer = rad_rest_login(s, server_connection_info, base_authentication_uri)\n",
    "\n",
    "# printing the answers coming back to show the proces.\n",
    "print(login_answer.status_code)\n",
    "print(login_answer.text)"
   ]
  },
  {
   "cell_type": "code",
   "execution_count": 22,
   "metadata": {},
   "outputs": [],
   "source": [
    "json_body = {\n",
    "    'ssids': ['//:*'],\n",
    "    'range': {\n",
    "              'range_type': 'RANGE_BY_TIME',\n",
    "              'range_by_time': {\n",
    "                                'start_ts': -1,\n",
    "                                'end_ts': -1,\n",
    "                                'step': 1\n",
    "                               },   \n",
    "              'show_unstable': True,\n",
    "              'show_unbrowsable': True \n",
    "             }    \n",
    "}"
   ]
  },
  {
   "cell_type": "code",
   "execution_count": 31,
   "metadata": {},
   "outputs": [
    {
     "name": "stdout",
     "output_type": "stream",
     "text": [
      "api/com.oracle.solaris.rad.sstore/1.0/Namespace/_rad_method/read\n",
      "200 \n",
      "\n"
     ]
    }
   ],
   "source": [
    "print('{}_rad_method/read'.format(sstore_namespace_uri))\n",
    "query_answer = rad_rest_request('PUT', s, server_connection_info, '{}_rad_method/read'.format(sstore_namespace_uri), json_body)\n",
    "query_text = json.loads(query_answer.text)\n",
    "\n",
    "print(query_answer.status_code, '\\n')\n",
    "# print(json.dumps(query_text, indent = 2))\n",
    "query_df = pd.DataFrame(query_text['payload']['records'])"
   ]
  },
  {
   "cell_type": "code",
   "execution_count": 29,
   "metadata": {},
   "outputs": [
    {
     "data": {
      "text/plain": [
       "0                      //:class.app/oracle/rdbms\n",
       "1                    //:class.app/solaris/apache\n",
       "2               //:class.app/solaris/audit/class\n",
       "3     //:class.app/solaris/compliance/assessment\n",
       "4           //:class.app/solaris/compliance/rule\n",
       "5      //:class.app/solaris/install/auto-install\n",
       "6                      //:class.app/solaris/nscd\n",
       "7                       //:class.app/solaris/smf\n",
       "8                    //:class.app/solaris/sstore\n",
       "9                //:class.app/solaris/sysstat/fs\n",
       "10            //:class.app/solaris/sysstat/netfs\n",
       "11          //:class.app/solaris/sysstat/sysconf\n",
       "12            //:class.app/solaris/sysstat/zpool\n",
       "13                                 //:class.chip\n",
       "14                           //:class.collection\n",
       "15                                 //:class.core\n",
       "16                                  //:class.cpu\n",
       "17                                  //:class.dax\n",
       "18                                  //:class.dev\n",
       "19                              //:class.devices\n",
       "20                                 //:class.disk\n",
       "21                      //:class.disk-controller\n",
       "22                               //:class.dtrace\n",
       "23                                //:class.event\n",
       "24                                   //:class.fs\n",
       "25                              //:class.fsflush\n",
       "26                               //:class.fstype\n",
       "27                               //:class.ib/hca\n",
       "28                          //:class.ib/hca-phys\n",
       "29                               //:class.ib/ulp\n",
       "30                                //:class.kstat\n",
       "31                               //:class.lgroup\n",
       "32                                 //:class.link\n",
       "33                            //:class.link/phys\n",
       "34                             //:class.net/flow\n",
       "35                               //:class.net/ip\n",
       "36                              //:class.net/tcp\n",
       "37                              //:class.net/udp\n",
       "38                           //:class.nfs/client\n",
       "39                           //:class.nfs/server\n",
       "40                              //:class.pageout\n",
       "41        //:class.pg/CPU-PM-Active-Power-Domain\n",
       "42          //:class.pg/CPU-PM-Idle-Power-Domain\n",
       "43                             //:class.pg/Cache\n",
       "44               //:class.pg/Data-Pipe-to-memory\n",
       "45               //:class.pg/Floating-Point-Unit\n",
       "46                  //:class.pg/Integer-Pipeline\n",
       "47                          //:class.pg/L2-Cache\n",
       "48                          //:class.pg/L3-Cache\n",
       "49                            //:class.pg/Socket\n",
       "50                                 //:class.proc\n",
       "51                                 //:class.pset\n",
       "52                            //:class.scheduler\n",
       "53                                  //:class.svc\n",
       "54                               //:class.system\n",
       "55                                //:class.zpool\n",
       "Name: ssid, dtype: object"
      ]
     },
     "execution_count": 29,
     "metadata": {},
     "output_type": "execute_result"
    }
   ],
   "source": [
    "query_df['ssid']"
   ]
  },
  {
   "cell_type": "code",
   "execution_count": 32,
   "metadata": {},
   "outputs": [],
   "source": [
    "json_body = {\n",
    "    'ssids': ['//:class.app/solaris/compliance/assessment//:*'],\n",
    "    'range': {\n",
    "              'range_type': 'RANGE_BY_TIME',\n",
    "              'range_by_time': {\n",
    "                                'start_ts': -1,\n",
    "                                'end_ts': -1,\n",
    "                                'step': 1\n",
    "                               },   \n",
    "              'show_unstable': True,\n",
    "              'show_unbrowsable': True \n",
    "             }    \n",
    "}"
   ]
  },
  {
   "cell_type": "code",
   "execution_count": 35,
   "metadata": {},
   "outputs": [
    {
     "name": "stdout",
     "output_type": "stream",
     "text": [
      "api/com.oracle.solaris.rad.sstore/1.0/Namespace/_rad_method/read\n",
      "200 \n",
      "\n",
      "{\n",
      "  \"status\": \"success\",\n",
      "  \"payload\": {\n",
      "    \"records\": [\n",
      "      {\n",
      "        \"ssid\": \"//:class.app/solaris/compliance/assessment//:stat.results\",\n",
      "        \"points\": [\n",
      "          {\n",
      "            \"point_type\": \"RANGE_POINT\",\n",
      "            \"point_value\": null,\n",
      "            \"point_range\": {\n",
      "              \"start_ts\": 0,\n",
      "              \"end_ts\": 0\n",
      "            }\n",
      "          }\n",
      "        ]\n",
      "      },\n",
      "      {\n",
      "        \"ssid\": \"//:class.app/solaris/compliance/assessment//:stat.score\",\n",
      "        \"points\": [\n",
      "          {\n",
      "            \"point_type\": \"RANGE_POINT\",\n",
      "            \"point_value\": null,\n",
      "            \"point_range\": {\n",
      "              \"start_ts\": 0,\n",
      "              \"end_ts\": 0\n",
      "            }\n",
      "          }\n",
      "        ]\n",
      "      },\n",
      "      {\n",
      "        \"ssid\": \"//:class.app/solaris/compliance/assessment//:stat.uuid\",\n",
      "        \"points\": [\n",
      "          {\n",
      "            \"point_type\": \"RANGE_POINT\",\n",
      "            \"point_value\": null,\n",
      "            \"point_range\": {\n",
      "              \"start_ts\": 0,\n",
      "              \"end_ts\": 0\n",
      "            }\n",
      "          }\n",
      "        ]\n",
      "      }\n",
      "    ],\n",
      "    \"formatted_records\": null,\n",
      "    \"warnings\": []\n",
      "  }\n",
      "}\n"
     ]
    }
   ],
   "source": [
    "print('{}_rad_method/read'.format(sstore_namespace_uri))\n",
    "query_answer = rad_rest_request('PUT', s, server_connection_info, '{}_rad_method/read'.format(sstore_namespace_uri), json_body)\n",
    "query_text = json.loads(query_answer.text)\n",
    "\n",
    "print(query_answer.status_code, '\\n')\n",
    "print(json.dumps(query_text, indent = 2))\n",
    "query_df = pd.DataFrame(query_text['payload']['records'])"
   ]
  },
  {
   "cell_type": "code",
   "execution_count": 34,
   "metadata": {},
   "outputs": [
    {
     "data": {
      "text/plain": [
       "0    //:class.app/solaris/compliance/assessment//:s...\n",
       "1    //:class.app/solaris/compliance/assessment//:s...\n",
       "2    //:class.app/solaris/compliance/assessment//:s...\n",
       "Name: ssid, dtype: object"
      ]
     },
     "execution_count": 34,
     "metadata": {},
     "output_type": "execute_result"
    }
   ],
   "source": [
    "query_df['ssid']"
   ]
  },
  {
   "cell_type": "code",
   "execution_count": 36,
   "metadata": {},
   "outputs": [],
   "source": [
    "from datetime import datetime"
   ]
  },
  {
   "cell_type": "code",
   "execution_count": 40,
   "metadata": {},
   "outputs": [
    {
     "name": "stdout",
     "output_type": "stream",
     "text": [
      "2020-04-28 13:28:00\n"
     ]
    }
   ],
   "source": [
    "ts = int(\"1588080480000000\")\n",
    "# if you encounter a \"year is out of range\" error the timestamp\n",
    "# may be in milliseconds, try `ts /= 1000` in that case\n",
    "print(datetime.utcfromtimestamp(ts/1000000).strftime('%Y-%m-%d %H:%M:%S'))"
   ]
  },
  {
   "cell_type": "code",
   "execution_count": 65,
   "metadata": {},
   "outputs": [
    {
     "name": "stdout",
     "output_type": "stream",
     "text": [
      "1445286660000000\n"
     ]
    }
   ],
   "source": [
    "from datetime import timezone\n",
    "dt = datetime(2015, 10, 19, 20, 31)\n",
    "timestamp = int((dt - datetime(1970, 1, 1)).total_seconds())*1000000\n",
    "print(timestamp)"
   ]
  },
  {
   "cell_type": "code",
   "execution_count": 67,
   "metadata": {},
   "outputs": [
    {
     "data": {
      "text/plain": [
       "'2015-10-19 20:31:00'"
      ]
     },
     "execution_count": 67,
     "metadata": {},
     "output_type": "execute_result"
    }
   ],
   "source": [
    "dt.strftime('%Y-%m-%d %H:%M:%S')"
   ]
  },
  {
   "cell_type": "code",
   "execution_count": 48,
   "metadata": {},
   "outputs": [
    {
     "name": "stdout",
     "output_type": "stream",
     "text": [
      "1445212800.0\n"
     ]
    }
   ],
   "source": [
    "from datetime import timezone\n",
    "dt = datetime(2015, 10, 19)\n",
    "# timestamp = dt.timestamp()\n",
    "timestamp = dt.replace(tzinfo=timezone.utc).timestamp()\n",
    "print(timestamp)"
   ]
  },
  {
   "cell_type": "code",
   "execution_count": 60,
   "metadata": {},
   "outputs": [
    {
     "data": {
      "text/plain": [
       "['__abs__',\n",
       " '__add__',\n",
       " '__bool__',\n",
       " '__class__',\n",
       " '__delattr__',\n",
       " '__dir__',\n",
       " '__divmod__',\n",
       " '__doc__',\n",
       " '__eq__',\n",
       " '__float__',\n",
       " '__floordiv__',\n",
       " '__format__',\n",
       " '__ge__',\n",
       " '__getattribute__',\n",
       " '__getformat__',\n",
       " '__getnewargs__',\n",
       " '__gt__',\n",
       " '__hash__',\n",
       " '__init__',\n",
       " '__init_subclass__',\n",
       " '__int__',\n",
       " '__le__',\n",
       " '__lt__',\n",
       " '__mod__',\n",
       " '__mul__',\n",
       " '__ne__',\n",
       " '__neg__',\n",
       " '__new__',\n",
       " '__pos__',\n",
       " '__pow__',\n",
       " '__radd__',\n",
       " '__rdivmod__',\n",
       " '__reduce__',\n",
       " '__reduce_ex__',\n",
       " '__repr__',\n",
       " '__rfloordiv__',\n",
       " '__rmod__',\n",
       " '__rmul__',\n",
       " '__round__',\n",
       " '__rpow__',\n",
       " '__rsub__',\n",
       " '__rtruediv__',\n",
       " '__set_format__',\n",
       " '__setattr__',\n",
       " '__sizeof__',\n",
       " '__str__',\n",
       " '__sub__',\n",
       " '__subclasshook__',\n",
       " '__truediv__',\n",
       " '__trunc__',\n",
       " 'as_integer_ratio',\n",
       " 'conjugate',\n",
       " 'fromhex',\n",
       " 'hex',\n",
       " 'imag',\n",
       " 'is_integer',\n",
       " 'real']"
      ]
     },
     "execution_count": 60,
     "metadata": {},
     "output_type": "execute_result"
    }
   ],
   "source": [
    "dir((dt - datetime(1970, 1, 1)).total_seconds())"
   ]
  },
  {
   "cell_type": "code",
   "execution_count": null,
   "metadata": {},
   "outputs": [],
   "source": []
  }
 ],
 "metadata": {
  "kernelspec": {
   "display_name": "oracle-solaris-rest",
   "language": "python",
   "name": "oracle-solaris-rest"
  },
  "language_info": {
   "codemirror_mode": {
    "name": "ipython",
    "version": 3
   },
   "file_extension": ".py",
   "mimetype": "text/x-python",
   "name": "python",
   "nbconvert_exporter": "python",
   "pygments_lexer": "ipython3",
   "version": "3.7.7"
  }
 },
 "nbformat": 4,
 "nbformat_minor": 4
}
