{
 "cells": [
  {
   "cell_type": "markdown",
   "metadata": {},
   "source": [
    "# Notebook for Working With Oracle Solaris Compliance Through its REST API\n",
    "\n",
    "This Jupyter Notebook is aimed at showing how you can use the REST interface in Oracle Solaris to work with its Compliance framework. The REST API is layered on top of the Oracle Solaris Remote Administration Deamon (RAD), and gives access to all the RAD modules through REST. This notebook is using Python to run all the tasks. </br></br>\n",
    "In this notebook we'll show how to connect to the REST interface and how to perform the various tasks you can do through REST.\n",
    "\n",
    "> *Note 1* — You'll need to enable the `svc:/system/rad:remote` service to be able to remotely connect. </br> \n",
    "> *Note 2* — If the server doesn't have a certification signed by a public CA pull in `/etc/certs/localhost/host-ca/hostca.crt` from your server. </br> \n",
    "> *Note 3* — The user you use to connect to the system will need to have either the `Compliance Assessor` or `Compliance Reporter` profiles set to be able perform these tasks. </br>\n",
    "> *Note 4* — This notebook was written with Python 3.7\n",
    "\n",
    "Here are the steps on what to do.\n",
    "\n",
    "## Imports and Setting Variables\n",
    "\n",
    "First to import all the Python libraries:"
   ]
  },
  {
   "cell_type": "code",
   "execution_count": null,
   "metadata": {},
   "outputs": [],
   "source": [
    "import requests\n",
    "import json\n",
    "import base64\n",
    "import os\n",
    "import time\n",
    "import pandas as pd"
   ]
  },
  {
   "cell_type": "markdown",
   "metadata": {},
   "source": [
    "Turning off warnings thrown by Python:"
   ]
  },
  {
   "cell_type": "code",
   "execution_count": null,
   "metadata": {},
   "outputs": [],
   "source": [
    "import warnings\n",
    "warnings.filterwarnings('ignore')"
   ]
  },
  {
   "cell_type": "markdown",
   "metadata": {},
   "source": [
    "Next pull in the variables needed for this notebook.\n",
    "\n",
    "Defining variables:"
   ]
  },
  {
   "cell_type": "code",
   "execution_count": null,
   "metadata": {},
   "outputs": [],
   "source": [
    "config_filename = 'base_login_root_wel.json'\n",
    "\n",
    "base_authentication_uri = 'api/authentication/1.0/Session/'\n",
    "base_compliance_uri = 'api/com.oracle.solaris.rad.compliance_mgr/1.0/'\n",
    "compliance_assessment_uri = '{}Assessment/'.format(base_compliance_uri)"
   ]
  },
  {
   "cell_type": "markdown",
   "metadata": {},
   "source": [
    "The system specific information is located in a JSON file and is structured like this: </br>\n",
    "\n",
    "```json\n",
    "{\n",
    "    \"server_name\": \"<ip address>\",\n",
    "    \"server_port\": \"<RAD Remote port>\",\n",
    "    \"cert_location\": \"<path_to_cert>\",\n",
    "    \"config_json\": {\n",
    "        \"username\": \"<username>\",\n",
    "        \"password\": \"<password>\",\n",
    "        \"scheme\": \"pam\",\n",
    "        \"preserve\": true,\n",
    "        \"timeout\": -1\n",
    "    }\n",
    "}\n",
    "``` \n",
    "\n",
    "If you don't want to use a certificate set `\"cert_location\": false` instead of the location of the cert file. If your server has a certificate signed by a public CA set `\"cert_location\": true`.\n",
    "\n",
    "Loading this system specific information:"
   ]
  },
  {
   "cell_type": "code",
   "execution_count": null,
   "metadata": {},
   "outputs": [],
   "source": [
    "if config_filename:\n",
    "    with open(config_filename, 'r') as f:\n",
    "        server_connection_info = json.load(f)\n",
    "        \n",
    "server_connection_info"
   ]
  },
  {
   "cell_type": "markdown",
   "metadata": {},
   "source": [
    "---\n",
    "## Base Functions\n",
    "\n",
    "Next we define the base functions used to make the connection with the REST interface. The first is to establish a session, the second is for the regular GET, PUT, POST, and DELETE tasks.\n",
    "\n",
    "> *Note* — This needs to be extended to correctly use the Certs\n",
    "\n",
    "The function to establish a session:"
   ]
  },
  {
   "cell_type": "code",
   "execution_count": null,
   "metadata": {},
   "outputs": [],
   "source": [
    "def rad_rest_login(session_name, server_connection_info, base_authentication_uri):\n",
    "    login_url = 'https://{0}:{1}/{2}'.format(*list(map(server_connection_info.get, ['server_name', 'server_port'])), base_authentication_uri)\n",
    "    print(\"Logging in with this URL: \" + login_url)\n",
    "\n",
    "    try:\n",
    "        response = session_name.post(login_url, json = server_connection_info['config_json'], verify = server_connection_info['cert_location'])\n",
    "    except:\n",
    "        print('no connection')\n",
    "        response = 'empty'\n",
    "    \n",
    "    return response"
   ]
  },
  {
   "cell_type": "markdown",
   "metadata": {},
   "source": [
    "The function to run regular requests:"
   ]
  },
  {
   "cell_type": "code",
   "execution_count": null,
   "metadata": {},
   "outputs": [],
   "source": [
    "def rad_rest_request(request_type, session_name, server_connection_info, rad_rest_uri, payload = None):\n",
    "    \n",
    "    # Create a list of variables\n",
    "    query_vars = list(map(server_connection_info.get, ['server_name', 'server_port']))\n",
    "    query_vars.append(rad_rest_uri)\n",
    "\n",
    "    # Create query url to be used\n",
    "    query_url = 'https://{0}:{1}/{2}'.format(*query_vars)\n",
    "\n",
    "    response = session_name.request(request_type, query_url, json = payload)\n",
    "    \n",
    "    return response"
   ]
  },
  {
   "cell_type": "markdown",
   "metadata": {},
   "source": [
    "---\n",
    "The following section now shows the various commands you can run. First it'll explore the `Assessment/` part of the API, this handles all the things related to the assessments, their info, creation, deletion, etc.\n",
    "\n",
    "## Logging in and setting up a session\n",
    "\n",
    "First establish the session and bring in the necessary credentials. Note we're printing the results to give a better insight on what's coming back, we won't be doing this for every request just a few to give you a feel:"
   ]
  },
  {
   "cell_type": "code",
   "execution_count": null,
   "metadata": {},
   "outputs": [],
   "source": [
    "s = requests.Session()\n",
    "\n",
    "login_answer = rad_rest_login(s, server_connection_info, base_authentication_uri)\n",
    "\n",
    "# printing the answers coming back to show the proces.\n",
    "print(login_answer.status_code)\n",
    "print(login_answer.text)"
   ]
  },
  {
   "cell_type": "markdown",
   "metadata": {},
   "source": [
    "---\n",
    "## Getting a list of all the current reports on the system\n",
    "\n",
    "Now to get a list of all the current reports on the system, first we query the generic URI which gives back a list of `href` objects. These are the individual report URIs which we can use to get more information about the reports and even to fetch the reports. This is assuming there are already some reports on the system.</br></br>\n",
    "First we fetch the list of reports:"
   ]
  },
  {
   "cell_type": "code",
   "execution_count": null,
   "metadata": {},
   "outputs": [],
   "source": [
    "query_answer = rad_rest_request('GET', s, server_connection_info, compliance_assessment_uri)\n",
    "query_text = json.loads(query_answer.text)\n",
    "\n",
    "print(query_answer.status_code, '\\n')\n",
    "print(query_text)"
   ]
  },
  {
   "cell_type": "markdown",
   "metadata": {},
   "source": [
    "---\n",
    "Now we have the report URI's we can use these to fetch more information about each URI. This next code runs through the list, pulls out the URI and then uses `/metadata` appended to the end to get extra information about the reports. We've added a `for` loop to iterate through each element in the response and print them out nicely:"
   ]
  },
  {
   "cell_type": "code",
   "execution_count": null,
   "metadata": {},
   "outputs": [],
   "source": [
    "for element in query_text['payload']:\n",
    "    print('Getting metadata for: {}'.format(element['href'].split('/')[-1]))\n",
    "    element_answer = rad_rest_request('GET', s, server_connection_info, '{}{}/metadata'.format(compliance_assessment_uri, element['href'].split('/')[-1]))\n",
    "    element_text = json.loads(element_answer.text)\n",
    "    \n",
    "print('\\nPrinting full metadata for: {}'.format(element['href'].split('/')[-1]))   \n",
    "for key, item in element_text['payload'].items():\n",
    "    print(key, ':', item)\n",
    "print()"
   ]
  },
  {
   "cell_type": "markdown",
   "metadata": {},
   "source": [
    "---\n",
    "This does the same but now pulls the data into a Pandas dataframe:"
   ]
  },
  {
   "cell_type": "code",
   "execution_count": null,
   "metadata": {},
   "outputs": [],
   "source": [
    "query_df = pd.DataFrame()\n",
    "for element in query_text['payload']:\n",
    "    element_answer = rad_rest_request('GET', s, server_connection_info, '{}{}/metadata'.format(compliance_assessment_uri, element['href'].split('/')[-1]))\n",
    "    query_series = pd.read_json(element_answer.text)\n",
    "    query_df = query_df.append(query_series['payload'], ignore_index = True) "
   ]
  },
  {
   "cell_type": "code",
   "execution_count": null,
   "metadata": {},
   "outputs": [],
   "source": [
    "query_df"
   ]
  },
  {
   "cell_type": "markdown",
   "metadata": {},
   "source": [
    "Once you pull this data into Pandas it becomes very easy to find and select specific assessments by their characteristics, especially at scale.\n",
    "\n",
    "For example if you just want to find the assessments that contain `'solaris.Baseline'` in their name you filter it this way:"
   ]
  },
  {
   "cell_type": "code",
   "execution_count": null,
   "metadata": {},
   "outputs": [],
   "source": [
    "query_df[query_df['Name'].str.contains('solaris.Baseline')]"
   ]
  },
  {
   "cell_type": "markdown",
   "metadata": {},
   "source": [
    "This you could use any value in the table to search on or sort the data with.\n",
    "\n",
    "---\n",
    "Next we use one of the reports — the one that happens to be the first in the list — and use the `/contents` method to fetch the full report for this assessment. The full report contains `report.html`, `state`, `log`, and `results.xccdf.xml` as individual elements, we first have to decode it from the `base64` encoding it's in and can then safe the file to disk. For connvenience we've created a subdirectory named after the assessment's UUID:"
   ]
  },
  {
   "cell_type": "code",
   "execution_count": null,
   "metadata": {},
   "outputs": [],
   "source": [
    "test_assessment = query_text['payload'][0]['href'].split('/')[-1]\n",
    "print('getting the report for {}:'.format(test_assessment))\n",
    "report_answer = rad_rest_request('GET', s, server_connection_info, '{}{}/contents'.format(compliance_assessment_uri, test_assessment))\n",
    "report_text = json.loads(report_answer.text)\n",
    "\n",
    "assessment_path = 'assessments/{}'.format(test_assessment)\n",
    "os.makedirs(assessment_path, exist_ok = True)\n",
    "\n",
    "for key in report_text['payload']:\n",
    "    print('Saving {}'.format(key))\n",
    "    file_name = '{}/{}'.format(assessment_path, key)\n",
    "    with open(file_name, 'wb') as file:\n",
    "        file.write(base64.b64decode(report_text['payload'][key]))"
   ]
  },
  {
   "cell_type": "markdown",
   "metadata": {},
   "source": [
    "This an easy way of pulling across the reports you're looking for over REST.\n",
    "\n",
    "---\n",
    "\n",
    "## Starting a new assessment\n",
    "\n",
    "This section shows how to kick off a new compliance assessment. \n",
    "\n",
    "* first this happens with a `POST` command to create the assessment \n",
    "* we pull in the UUID of the new assessment\n",
    "* then we check if it was created successfully\n",
    "* and then there’s a `PUT` command to set it’s state to `“AS_RUNNING”`\n",
    "* once this has been set the compliance assessment will start and we can track it's progress\n",
    "\n",
    "---\n",
    "\n",
    "In case we want to use the current datetime in the assessment name we create a function that can generate it:"
   ]
  },
  {
   "cell_type": "code",
   "execution_count": null,
   "metadata": {},
   "outputs": [],
   "source": [
    "def get_time_stamp():\n",
    "    time_zone = timezone(timedelta(hours = -7))\n",
    "    return datetime.now(tz = time_zone).strftime('%Y-%m-%d,%H:%M')"
   ]
  },
  {
   "cell_type": "markdown",
   "metadata": {},
   "source": [
    "Generating a dict with the benchmark, profile, and name for the assessment:"
   ]
  },
  {
   "cell_type": "code",
   "execution_count": null,
   "metadata": {},
   "outputs": [],
   "source": [
    "benchmark = 'solaris'\n",
    "profile = 'Baseline'\n",
    "\n",
    "# the option to choose the assessment name\n",
    "name = 'my_assess_2'\n",
    "# name = '{}.{}.{}'.format(benchmark, profile, get_time_stamp())\n",
    "\n",
    "json_body = {'benchmark': benchmark , 'profile' : profile, 'name': name}\n",
    "json_body"
   ]
  },
  {
   "cell_type": "markdown",
   "metadata": {},
   "source": [
    "---\n",
    "Now we use a `POST` command to create the assessment. In return we receive the `href` reference for the newly created assessment."
   ]
  },
  {
   "cell_type": "code",
   "execution_count": null,
   "metadata": {},
   "outputs": [],
   "source": [
    "post_response = rad_rest_request('POST', s, server_connection_info, compliance_assessment_uri, json_body)\n",
    "post_response_text = json.loads(post_response.text)\n",
    "post_response_uri = post_response_text['payload']['href'][1:]\n",
    "\n",
    "print(post_response.status_code)\n",
    "print(post_response_text)\n",
    "print(post_response_uri)"
   ]
  },
  {
   "cell_type": "markdown",
   "metadata": {},
   "source": [
    "---\n",
    "We can now fetch the assessment UUID by using this `href` reference. We want to do this because the reference is temporary where the UUID is fixed."
   ]
  },
  {
   "cell_type": "code",
   "execution_count": null,
   "metadata": {},
   "outputs": [],
   "source": [
    "request_uuid = json.loads(rad_rest_request('GET', s, server_connection_info, '{}/uuid'.format(post_response_uri)).text)\n",
    "print(request_uuid)\n",
    "\n",
    "post_response_uuid = '{}{}'.format(compliance_assessment_uri, request_uuid['payload'])\n",
    "print(post_response_uuid)"
   ]
  },
  {
   "cell_type": "markdown",
   "metadata": {},
   "source": [
    "---\n",
    "Once we have the tthe assessment UUID we can check it's current state, this should be `\"As_CREATING\"`:"
   ]
  },
  {
   "cell_type": "code",
   "execution_count": null,
   "metadata": {},
   "outputs": [],
   "source": [
    "get_state = rad_rest_request('GET', s, server_connection_info, '{}/state'.format(post_response_uuid))\n",
    "\n",
    "print(json.loads(get_state.text))"
   ]
  },
  {
   "cell_type": "markdown",
   "metadata": {},
   "source": [
    "---\n",
    "To now start the assessment we set it's state to `\"AS_RUNNING\"`. Note this is to the same `/state` URI, but this time instead of using `GET` we're using `PUT`:"
   ]
  },
  {
   "cell_type": "code",
   "execution_count": null,
   "metadata": {},
   "outputs": [],
   "source": [
    "json_body_running = {\"value\": 'AS_RUNNING'}\n",
    "\n",
    "put_response = rad_rest_request('PUT', s, server_connection_info, '{}/state'.format(post_response_uuid), json_body_running)\n",
    "print(put_response.status_code)\n",
    "print(json.loads(put_response.text))"
   ]
  },
  {
   "cell_type": "markdown",
   "metadata": {},
   "source": [
    "---\n",
    "The assessment should now be running we can check this with this loop. Currently the status isn't refreshed for the running session so we start a new session and run the loop:"
   ]
  },
  {
   "cell_type": "code",
   "execution_count": null,
   "metadata": {},
   "outputs": [],
   "source": [
    "while True:\n",
    "    s = requests.Session()\n",
    "    login_again = rad_rest_login(s, server_connection_info, base_authentication_uri)\n",
    "    \n",
    "    my_list = rad_rest_request('GET', s, server_connection_info, '{}/metadata'.format(post_response_uuid))\n",
    "    my_text = json.loads(my_list.text)\n",
    "    print(my_text['payload']['Status'])\n",
    "    if my_text['payload']['Status'] != 'Running':\n",
    "        print('done')\n",
    "        break\n",
    "    time.sleep(30)"
   ]
  },
  {
   "cell_type": "markdown",
   "metadata": {},
   "source": [
    "---\n",
    "## Deleting an assessment\n",
    "\n",
    "This section shows how to delete an assessment. \n",
    "\n",
    "First we take the UUID of the report we just created:"
   ]
  },
  {
   "cell_type": "code",
   "execution_count": null,
   "metadata": {},
   "outputs": [],
   "source": [
    "assessment_uuid = request_uuid['payload']"
   ]
  },
  {
   "cell_type": "markdown",
   "metadata": {},
   "source": [
    "Then we run the `DELETE` commannd:"
   ]
  },
  {
   "cell_type": "code",
   "execution_count": null,
   "metadata": {},
   "outputs": [],
   "source": [
    "delete_response = rad_rest_request('DELETE', s, server_connection_info, '{}{}'.format(compliance_assessment_uri, assessment_uuid))\n",
    "\n",
    "print(delete_response.status_code)\n",
    "print(json.loads(delete_response.text))"
   ]
  },
  {
   "cell_type": "markdown",
   "metadata": {},
   "source": [
    "---\n",
    "## Benchmarks\n",
    "\n",
    "The next sections will go into the `Benchmark/` part of the REST API.\n",
    "\n",
    "First we set the new URI for this part of the API:"
   ]
  },
  {
   "cell_type": "code",
   "execution_count": null,
   "metadata": {},
   "outputs": [],
   "source": [
    "compliance_benchmark_uri = '{}Benchmark/'.format(base_compliance_uri)\n",
    "compliance_benchmark_uri"
   ]
  },
  {
   "cell_type": "markdown",
   "metadata": {},
   "source": [
    "---\n",
    "The following command will allow you to get the available benchmarks on the system."
   ]
  },
  {
   "cell_type": "code",
   "execution_count": null,
   "metadata": {},
   "outputs": [],
   "source": [
    "benchmark_get = rad_rest_request('GET', s, server_connection_info, '{}'.format(compliance_benchmark_uri))\n",
    "benchmark_list = json.loads(benchmark_get.text)\n",
    "\n",
    "print(benchmark_get.status_code)\n",
    "print(benchmark_list)"
   ]
  },
  {
   "cell_type": "markdown",
   "metadata": {},
   "source": [
    "---\n",
    "Next we explore the information linked to these benchmarks: `/name`, `/title`, `/profiles`"
   ]
  },
  {
   "cell_type": "code",
   "execution_count": null,
   "metadata": {},
   "outputs": [],
   "source": [
    "for benchmark_uri in benchmark_list['payload']:\n",
    "    print(benchmark_uri['href'])\n",
    "    benchmark_name = json.loads(rad_rest_request('GET', s, server_connection_info, '{}/name'.format(benchmark_uri['href'])).text)\n",
    "    print(benchmark_name)\n",
    "    benchmark_title = json.loads(rad_rest_request('GET', s, server_connection_info, '{}/title'.format(benchmark_uri['href'])).text)\n",
    "    print(benchmark_title)\n",
    "    benchmark_profiles = json.loads(rad_rest_request('GET', s, server_connection_info, '{}/profiles'.format(benchmark_uri['href'])).text)\n",
    "    print(benchmark_profiles)"
   ]
  },
  {
   "cell_type": "markdown",
   "metadata": {},
   "source": [
    "---\n",
    "\n",
    "## Tailoring\n",
    "\n",
    "The `Tailoring/` API is closely related to the `Benchmark/` API. With this API you can find out if there are tailorings on the system and if so what they  are called and how they are tailored. I.e. which rules are set for this tailoring. Incidentally you can also use this API to find the way the predefined profiles are set.\n",
    "\n",
    "First we set the tailoring URI:"
   ]
  },
  {
   "cell_type": "code",
   "execution_count": null,
   "metadata": {},
   "outputs": [],
   "source": [
    "compliance_tailoring_uri = '{}Tailoring/'.format(base_compliance_uri)\n",
    "compliance_tailoring_uri"
   ]
  },
  {
   "cell_type": "markdown",
   "metadata": {},
   "source": [
    "---\n",
    "Then we get the list of available tailorings:"
   ]
  },
  {
   "cell_type": "code",
   "execution_count": null,
   "metadata": {},
   "outputs": [],
   "source": [
    "tailoring_get = rad_rest_request('GET', s, server_connection_info, '{}'.format(compliance_tailoring_uri))\n",
    "\n",
    "print(tailoring_get.status_code)\n",
    "tailoring_list = json.loads(tailoring_get.text)\n",
    "print(tailoring_list)"
   ]
  },
  {
   "cell_type": "markdown",
   "metadata": {},
   "source": [
    "---\n",
    "We can now use this to get the full list of rules asigned to this tailoring:"
   ]
  },
  {
   "cell_type": "code",
   "execution_count": null,
   "metadata": {},
   "outputs": [],
   "source": [
    "tailoring_dfs = {}\n",
    "\n",
    "for tailoring in tailoring_list['payload']:\n",
    "    print(tailoring['href'])\n",
    "    json_tailoring = {'tailoring': tailoring['href']}\n",
    "    tailoring_description = json.loads(rad_rest_request('PUT', s, server_connection_info, \n",
    "                                                        '{}{}/_rad_method/get_descriptions'.format(compliance_benchmark_uri, 'solaris'), \n",
    "                                                        json_tailoring).text)\n",
    "#     print(tailoring_description)\n",
    "    tailoring_dfs[tailoring['href'].split('/')[-1]] = pd.DataFrame(tailoring_description['payload'])"
   ]
  },
  {
   "cell_type": "markdown",
   "metadata": {},
   "source": [
    "---\n",
    "\n",
    "Because there can be multiple tailorings on the system, I've put the dataframes inside a dict:"
   ]
  },
  {
   "cell_type": "code",
   "execution_count": null,
   "metadata": {},
   "outputs": [],
   "source": [
    "tailoring_dfs.keys()"
   ]
  },
  {
   "cell_type": "code",
   "execution_count": null,
   "metadata": {},
   "outputs": [],
   "source": [
    "tailoring_dfs['mysite'].head()"
   ]
  },
  {
   "cell_type": "markdown",
   "metadata": {},
   "source": [
    "---\n",
    "Finally we can also use this API to get the list of rules set for the built-in profiles:"
   ]
  },
  {
   "cell_type": "code",
   "execution_count": null,
   "metadata": {},
   "outputs": [],
   "source": [
    "profile_description = json.loads(rad_rest_request('PUT', s, server_connection_info, \n",
    "                                                  '{}{}/_rad_method/get_descriptions'.format(compliance_benchmark_uri, 'solaris'), \n",
    "                                                  {'tailoring': 'Baseline'}).text)\n",
    "\n",
    "profile_df = pd.DataFrame(profile_description['payload'])\n",
    "#     print(rule['ruleid'], rule['title'], rule['description'])"
   ]
  },
  {
   "cell_type": "code",
   "execution_count": null,
   "metadata": {},
   "outputs": [],
   "source": [
    "profile_df"
   ]
  },
  {
   "cell_type": "code",
   "execution_count": null,
   "metadata": {},
   "outputs": [],
   "source": [
    "for cell in profile_df[profile_df['description'].str.contains('oscv', case = False)]['description']:\n",
    "    print(cell)"
   ]
  },
  {
   "cell_type": "markdown",
   "metadata": {},
   "source": [
    "---\n",
    "Things missing are:\n",
    "\n",
    "* ways to set/upload a tailoring\n",
    "* a way to find out against which benchmark the tailoring is set\n",
    "* ways to download the compliance summary reports, this will only pull in `report.html`, `log`, `state`, and `results.xccdf.xml`."
   ]
  },
  {
   "cell_type": "markdown",
   "metadata": {},
   "source": [
    "---\n",
    "---\n",
    "## Main\n",
    "\n",
    "We're skipping this section for now. This is to be able to run this more automated in the future."
   ]
  },
  {
   "cell_type": "code",
   "execution_count": null,
   "metadata": {},
   "outputs": [],
   "source": [
    "def main():\n",
    "    pass"
   ]
  },
  {
   "cell_type": "code",
   "execution_count": null,
   "metadata": {},
   "outputs": [],
   "source": [
    "# if __name__ == '__main__':\n",
    "#     main()"
   ]
  },
  {
   "cell_type": "code",
   "execution_count": null,
   "metadata": {},
   "outputs": [],
   "source": []
  },
  {
   "cell_type": "code",
   "execution_count": null,
   "metadata": {},
   "outputs": [],
   "source": []
  }
 ],
 "metadata": {
  "kernelspec": {
   "display_name": "oracle-solaris-rest",
   "language": "python",
   "name": "oracle-solaris-rest"
  },
  "language_info": {
   "codemirror_mode": {
    "name": "ipython",
    "version": 3
   },
   "file_extension": ".py",
   "mimetype": "text/x-python",
   "name": "python",
   "nbconvert_exporter": "python",
   "pygments_lexer": "ipython3",
   "version": "3.7.6"
  }
 },
 "nbformat": 4,
 "nbformat_minor": 4
}
